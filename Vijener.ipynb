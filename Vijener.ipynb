{
 "metadata": {
  "language_info": {
   "codemirror_mode": {
    "name": "ipython",
    "version": 3
   },
   "file_extension": ".py",
   "mimetype": "text/x-python",
   "name": "python",
   "nbconvert_exporter": "python",
   "pygments_lexer": "ipython3",
   "version": "3.6.12-final"
  },
  "orig_nbformat": 2,
  "kernelspec": {
   "name": "python3",
   "display_name": "Python 3.6.12 64-bit (conda)",
   "metadata": {
    "interpreter": {
     "hash": "b3ba2566441a7c06988d0923437866b63cedc61552a5af99d1f4fb67d367b25f"
    }
   }
  }
 },
 "nbformat": 4,
 "nbformat_minor": 2,
 "cells": [
  {
   "source": [
    "d = []\n",
    "for i in range(1040, 1105):\n",
    "    if(i==1104): continue\n",
    "    d.append(chr(i))\n",
    "d.insert(6, chr(1025))\n",
    "d.insert(39, chr(1105))\n",
    "\n",
    "dictionary = {}\n",
    "for i in range(len(d)):\n",
    "    dictionary[i] = d[i]\n",
    "dictionary.update({66:chr(32)})\n",
    "dictionary.update({67:chr(44)})\n",
    "dictionary.update({68:chr(46)})\n",
    "\n",
    "len_dict = len(dictionary)\n",
    "print(len_dict)\n",
    "print(dictionary)\n"
   ],
   "cell_type": "code",
   "metadata": {},
   "execution_count": 46,
   "outputs": [
    {
     "output_type": "stream",
     "name": "stdout",
     "text": [
      "69\n{0: 'А', 1: 'Б', 2: 'В', 3: 'Г', 4: 'Д', 5: 'Е', 6: 'Ё', 7: 'Ж', 8: 'З', 9: 'И', 10: 'Й', 11: 'К', 12: 'Л', 13: 'М', 14: 'Н', 15: 'О', 16: 'П', 17: 'Р', 18: 'С', 19: 'Т', 20: 'У', 21: 'Ф', 22: 'Х', 23: 'Ц', 24: 'Ч', 25: 'Ш', 26: 'Щ', 27: 'Ъ', 28: 'Ы', 29: 'Ь', 30: 'Э', 31: 'Ю', 32: 'Я', 33: 'а', 34: 'б', 35: 'в', 36: 'г', 37: 'д', 38: 'е', 39: 'ё', 40: 'ж', 41: 'з', 42: 'и', 43: 'й', 44: 'к', 45: 'л', 46: 'м', 47: 'н', 48: 'о', 49: 'п', 50: 'р', 51: 'с', 52: 'т', 53: 'у', 54: 'ф', 55: 'х', 56: 'ц', 57: 'ч', 58: 'ш', 59: 'щ', 60: 'ъ', 61: 'ы', 62: 'ь', 63: 'э', 64: 'ю', 65: 'я', 66: ' ', 67: ',', 68: '.'}\n"
     ]
    }
   ]
  },
  {
   "cell_type": "code",
   "execution_count": 67,
   "metadata": {},
   "outputs": [],
   "source": [
    "def get_dict_key(d: dict, value: str) -> int:\n",
    "    '''Возвращает ключ символа в словаре. Ключом является целое число int.'''\n",
    "    for k, v in d.items():\n",
    "        if v == value:\n",
    "            return k\n",
    "\n",
    "\n",
    "def get_keys(string: str, d: dict) -> list:\n",
    "    '''Возвращает список ключей каждого символа строки в словаре'''\n",
    "    len_st = len(string)\n",
    "    kkey = []\n",
    "    for i in range(len_st):\n",
    "        k = get_dict_key(d, string[i])\n",
    "        kkey.append(k)\n",
    "    return kkey\n",
    "\n",
    "\n",
    "def Encrypt(st: str, key: str, d: dict) -> str:\n",
    "    '''Функция шифрования. Принимает на вход строку для шифрования, ключ и словарь.'''\n",
    "    len_st = len(st)\n",
    "    len_key = len(key)\n",
    "    len_dict = len(d)\n",
    "    # print(len_dict)\n",
    "    # print(d)\n",
    "\n",
    "    kkey = get_keys(key, d)\n",
    "    # print(kkey)\n",
    "    kstr = get_keys(st, d)\n",
    "    # print(kstr)\n",
    "\n",
    "    crypt_st = []\n",
    "    \n",
    "    for i in range(len_st):\n",
    "        key_ind = i % len_key\n",
    "        key_s = (kstr[i] + kkey[key_ind]) % len_dict\n",
    "        s = d[key_s]\n",
    "        crypt_st.append(s)\n",
    "    \n",
    "    return ''.join(crypt_st)\n",
    "\n",
    "\n",
    "def Decrypt(st: str, key: str, d: dict) -> str:\n",
    "    '''Функция шифрования. Принимает на вход строку для дешифрования, ключ и словарь.'''\n",
    "    len_st = len(st)\n",
    "    len_key = len(key)\n",
    "    len_dict = len(d)\n",
    "\n",
    "    kkey = get_keys(key, d)\n",
    "    kstr = get_keys(st, d)\n",
    "\n",
    "    decrypt_st = []\n",
    "    for i in range(len_st):\n",
    "        k_st = get_dict_key(d, st[i])\n",
    "        key_ind = i % len_key\n",
    "        key_s = (kstr[i] - kkey[key_ind] + len_dict) % len_dict\n",
    "        s = dictionary[key_s]\n",
    "        decrypt_st.append(s)\n",
    "    \n",
    "    return ''.join(decrypt_st)"
   ]
  },
  {
   "cell_type": "code",
   "execution_count": 68,
   "metadata": {},
   "outputs": [
    {
     "output_type": "stream",
     "name": "stdout",
     "text": [
      "ЪЩдЦпЫ\nПривет\n"
     ]
    },
    {
     "output_type": "execute_result",
     "data": {
      "text/plain": [
       "'Функция шифрования. Принимает на вход строку для дешифрования, ключ и словарь.'"
      ]
     },
     "metadata": {},
     "execution_count": 68
    }
   ],
   "source": [
    "st = str(Encrypt('Привет', 'Ключ', dictionary))\n",
    "print(st)\n",
    "\n",
    "st1 = Decrypt(st, 'Ключ', dictionary)\n",
    "print(st1)\n",
    "Decrypt.__doc__"
   ]
  },
  {
   "source": [
    "class Dictionary:\n",
    "\n",
    "    def __init__(self, dict_arr, name = 'Dictionary'):\n",
    "        # self.dict_arr = dict_arr\n",
    "        self.dictionary = {}\n",
    "        for i in range(len(dict_arr)):\n",
    "            self.dictionary[i] = dict_arr[i]\n",
    "        self.name = name\n",
    "\n",
    "    @property\n",
    "    def Lenth(self):\n",
    "        \"\"\"Определяет длину словаря\"\"\"\n",
    "        return len(self.dictionary)\n",
    "\n",
    "    @property\n",
    "    def Name(self):\n",
    "        return self.name\n",
    "    \n",
    "    def get_key(self, value):\n",
    "        '''Находит ключ по значению'''\n",
    "        for k, v in self.dictionary.items():\n",
    "            if v == value:\n",
    "              return k\n",
    "\n",
    "    def get_value(self, key):\n",
    "        '''Находит значение по ключу'''\n",
    "        return self.dictionary[key]\n",
    "\n",
    "    # def __del__(self):\n",
    "    #     print(\"Dictionary '%s' was deleted.\" % self.name)"
   ],
   "cell_type": "code",
   "metadata": {},
   "execution_count": 4,
   "outputs": []
  },
  {
   "source": [
    "d1 = []\n",
    "for i in range(1040, 1105):\n",
    "    if(i==1104): continue\n",
    "    d1.append(chr(i))\n",
    "d1.insert(6, chr(1025))\n",
    "d1.insert(39, chr(1105))\n",
    "\n",
    "dic = Dictionary(d1, 'dic')\n",
    "# del dic\n",
    "print(dic.dictionary)\n",
    "print(dic.Lenth)\n",
    "print(dic.Name)\n",
    "print(dic.get_key(\"о\"))\n",
    "print(dic.get_value(21))"
   ],
   "cell_type": "code",
   "metadata": {},
   "execution_count": 5,
   "outputs": [
    {
     "output_type": "stream",
     "name": "stdout",
     "text": [
      "{0: 'А', 1: 'Б', 2: 'В', 3: 'Г', 4: 'Д', 5: 'Е', 6: 'Ё', 7: 'Ж', 8: 'З', 9: 'И', 10: 'Й', 11: 'К', 12: 'Л', 13: 'М', 14: 'Н', 15: 'О', 16: 'П', 17: 'Р', 18: 'С', 19: 'Т', 20: 'У', 21: 'Ф', 22: 'Х', 23: 'Ц', 24: 'Ч', 25: 'Ш', 26: 'Щ', 27: 'Ъ', 28: 'Ы', 29: 'Ь', 30: 'Э', 31: 'Ю', 32: 'Я', 33: 'а', 34: 'б', 35: 'в', 36: 'г', 37: 'д', 38: 'е', 39: 'ё', 40: 'ж', 41: 'з', 42: 'и', 43: 'й', 44: 'к', 45: 'л', 46: 'м', 47: 'н', 48: 'о', 49: 'п', 50: 'р', 51: 'с', 52: 'т', 53: 'у', 54: 'ф', 55: 'х', 56: 'ц', 57: 'ч', 58: 'ш', 59: 'щ', 60: 'ъ', 61: 'ы', 62: 'ь', 63: 'э', 64: 'ю', 65: 'я'}\n66\ndic\n48\nФ\n"
     ]
    }
   ]
  },
  {
   "source": [
    "class Crypt:\n",
    "\n",
    "    def __init__(self, string, key, dictionary):\n",
    "        self.string = st\n",
    "        self.key = key\n",
    "        self.dictionary = dictionary\n",
    "        self.len_key = len(key)\n",
    "        self.len_st = len(string)\n",
    "\n",
    "    \n",
    "    def key_keys(self):\n",
    "        kkey = []\n",
    "        for i in range(self.len_key):\n",
    "            k = self.dictionary.get_key(self.key[i])\n",
    "            kkey.append(k)\n",
    "        return kkey\n",
    "    \n",
    "    def str_keys(self):\n",
    "        st_keys = []\n",
    "        for i in range(self.len_st):\n",
    "            k_st = self.dictionary.get_key(self.string[i])\n",
    "            st_keys.append(k_st)\n",
    "        return st_keys\n",
    "\n",
    "    def Encrypt(self):\n",
    "        # len_st = len(st)\n",
    "        # len_key = len(key)\n",
    "        len_dict = self.dictionary.Lenth\n",
    "\n",
    "        k_key = key_keys()\n",
    "        k_str = str_keys(self.string)\n",
    "    \n",
    "        crypt_st = []\n",
    "        \n",
    "        for i in range(self.len_st):\n",
    "            key_ind = i % self.len_key\n",
    "            key_s = (k_str[i] + k_key[key_ind]) % len_dict\n",
    "            s = self.dictionary.dictionary[key_s]\n",
    "            crypt_st.append(s)\n",
    "        \n",
    "        return ''.join(crypt_st)\n",
    "\n",
    "# print(dic.di)\n",
    "\n",
    "crypt = Crypt('Привет', 'Ключ', dic)\n",
    "print(crypt.key_keys())\n",
    "print(crypt.str_keys())\n",
    "print(crypt.Encrypt())\n",
    "\n",
    "# print(type(dic))"
   ],
   "cell_type": "code",
   "metadata": {},
   "execution_count": 13,
   "outputs": [
    {
     "output_type": "error",
     "ename": "TypeError",
     "evalue": "key_keys() takes 0 positional arguments but 1 was given",
     "traceback": [
      "\u001b[1;31m---------------------------------------------------------------------------\u001b[0m",
      "\u001b[1;31mTypeError\u001b[0m                                 Traceback (most recent call last)",
      "\u001b[1;32m<ipython-input-13-b70f7cf3c099>\u001b[0m in \u001b[0;36m<module>\u001b[1;34m\u001b[0m\n\u001b[0;32m     44\u001b[0m \u001b[1;33m\u001b[0m\u001b[0m\n\u001b[0;32m     45\u001b[0m \u001b[0mcrypt\u001b[0m \u001b[1;33m=\u001b[0m \u001b[0mCrypt\u001b[0m\u001b[1;33m(\u001b[0m\u001b[1;34m'Привет'\u001b[0m\u001b[1;33m,\u001b[0m \u001b[1;34m'Ключ'\u001b[0m\u001b[1;33m,\u001b[0m \u001b[0mdic\u001b[0m\u001b[1;33m)\u001b[0m\u001b[1;33m\u001b[0m\u001b[1;33m\u001b[0m\u001b[0m\n\u001b[1;32m---> 46\u001b[1;33m \u001b[0mprint\u001b[0m\u001b[1;33m(\u001b[0m\u001b[0mcrypt\u001b[0m\u001b[1;33m.\u001b[0m\u001b[0mkey_keys\u001b[0m\u001b[1;33m(\u001b[0m\u001b[1;33m)\u001b[0m\u001b[1;33m)\u001b[0m\u001b[1;33m\u001b[0m\u001b[1;33m\u001b[0m\u001b[0m\n\u001b[0m\u001b[0;32m     47\u001b[0m \u001b[0mprint\u001b[0m\u001b[1;33m(\u001b[0m\u001b[0mcrypt\u001b[0m\u001b[1;33m.\u001b[0m\u001b[0mstr_keys\u001b[0m\u001b[1;33m(\u001b[0m\u001b[1;33m)\u001b[0m\u001b[1;33m)\u001b[0m\u001b[1;33m\u001b[0m\u001b[1;33m\u001b[0m\u001b[0m\n\u001b[0;32m     48\u001b[0m \u001b[0mprint\u001b[0m\u001b[1;33m(\u001b[0m\u001b[0mcrypt\u001b[0m\u001b[1;33m.\u001b[0m\u001b[0mEncrypt\u001b[0m\u001b[1;33m(\u001b[0m\u001b[1;33m)\u001b[0m\u001b[1;33m)\u001b[0m\u001b[1;33m\u001b[0m\u001b[1;33m\u001b[0m\u001b[0m\n",
      "\u001b[1;31mTypeError\u001b[0m: key_keys() takes 0 positional arguments but 1 was given"
     ]
    }
   ]
  },
  {
   "cell_type": "code",
   "execution_count": 17,
   "metadata": {},
   "outputs": [
    {
     "output_type": "execute_result",
     "data": {
      "text/plain": [
       "'Ставит пробелы перед строкой'"
      ]
     },
     "metadata": {},
     "execution_count": 17
    }
   ],
   "source": [
    "def indent_right(s: str, width: int) -> str:\n",
    "    '''Ставит пробелы перед строкой'''\n",
    "    return \" \" * (max(0, width - len(s))) + s\n",
    "\n",
    "s = 'absqwer'\n",
    "w = 1\n",
    "\n",
    "# print(indent_right(s, w))\n",
    "indent_right.__doc__"
   ]
  },
  {
   "cell_type": "code",
   "execution_count": 73,
   "metadata": {},
   "outputs": [
    {
     "output_type": "stream",
     "name": "stdout",
     "text": [
      "23\n<class 'str'>\n"
     ]
    }
   ],
   "source": [
    "def summ(a: int, b: int) -> int:\n",
    "    return a+b\n",
    "\n",
    "print(summ(\"2\", \"3\"))\n",
    "print(type(summ(\"2\", \"3\")))"
   ]
  }
 ]
}